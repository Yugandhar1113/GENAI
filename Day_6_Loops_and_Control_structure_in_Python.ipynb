{
  "nbformat": 4,
  "nbformat_minor": 0,
  "metadata": {
    "colab": {
      "provenance": []
    },
    "kernelspec": {
      "name": "python3",
      "display_name": "Python 3"
    },
    "language_info": {
      "name": "python"
    }
  },
  "cells": [
    {
      "cell_type": "code",
      "execution_count": null,
      "metadata": {
        "id": "yYV1yggCKbuJ"
      },
      "outputs": [],
      "source": [
        "### Simple if"
      ]
    },
    {
      "cell_type": "code",
      "source": [
        "x=10\n",
        "if x>5:\n",
        "    print(\"x is greater than 5\")"
      ],
      "metadata": {
        "colab": {
          "base_uri": "https://localhost:8080/"
        },
        "id": "yU0nQXYwKgnk",
        "outputId": "68fe719f-3b25-4b03-fc1d-bee12c954595"
      },
      "execution_count": null,
      "outputs": [
        {
          "output_type": "stream",
          "name": "stdout",
          "text": [
            "x is greater than 5\n"
          ]
        }
      ]
    },
    {
      "cell_type": "code",
      "source": [
        "x=45\n",
        "if x>40:\n",
        "    print(\"x is greater than 30\")"
      ],
      "metadata": {
        "colab": {
          "base_uri": "https://localhost:8080/"
        },
        "id": "XWJSdbx1Kglo",
        "outputId": "63a207ae-8bdb-4905-82a4-6ffb044ad023"
      },
      "execution_count": null,
      "outputs": [
        {
          "output_type": "stream",
          "name": "stdout",
          "text": [
            "x is greater than 30\n"
          ]
        }
      ]
    },
    {
      "cell_type": "code",
      "source": [
        " ### if-Else"
      ],
      "metadata": {
        "id": "0H-O4YdEKgjz"
      },
      "execution_count": null,
      "outputs": []
    },
    {
      "cell_type": "code",
      "source": [
        "x=20\n",
        "if x>30:\n",
        "   print(\"Greater\")\n",
        "else:\n",
        "    print(\"Not Greater\")"
      ],
      "metadata": {
        "colab": {
          "base_uri": "https://localhost:8080/"
        },
        "id": "nHEKclVQKgh2",
        "outputId": "644c8866-5366-48b7-b855-13fa1ebcfc5e"
      },
      "execution_count": null,
      "outputs": [
        {
          "output_type": "stream",
          "name": "stdout",
          "text": [
            "Not Greater\n"
          ]
        }
      ]
    },
    {
      "cell_type": "code",
      "source": [
        "x=20\n",
        "if x>30:\n",
        "   print(\"Greater\")\n"
      ],
      "metadata": {
        "id": "37uPOAOoKgf6"
      },
      "execution_count": null,
      "outputs": []
    },
    {
      "cell_type": "code",
      "source": [
        "x"
      ],
      "metadata": {
        "id": "Ls0e8MkrKgeO"
      },
      "execution_count": null,
      "outputs": []
    },
    {
      "cell_type": "code",
      "source": [
        "x=1\n",
        "if x<12:\n",
        "    print(\"Less\")\n",
        "else:\n",
        "    print(\"Greater\")\n"
      ],
      "metadata": {
        "colab": {
          "base_uri": "https://localhost:8080/"
        },
        "id": "Z6qJTgbqKgcX",
        "outputId": "c3df54b9-6d36-41d0-f202-468456e8c7ff"
      },
      "execution_count": null,
      "outputs": [
        {
          "output_type": "stream",
          "name": "stdout",
          "text": [
            "Less\n"
          ]
        }
      ]
    },
    {
      "cell_type": "code",
      "source": [
        "x=1\n",
        "if x<12:\n",
        "   print(\"Less\")"
      ],
      "metadata": {
        "colab": {
          "base_uri": "https://localhost:8080/"
        },
        "id": "q7HMOGGuKgaL",
        "outputId": "b083d6c2-31e7-407d-b602-cf47e43315bf"
      },
      "execution_count": null,
      "outputs": [
        {
          "output_type": "stream",
          "name": "stdout",
          "text": [
            "Less\n"
          ]
        }
      ]
    },
    {
      "cell_type": "code",
      "source": [
        "### if-elif-else"
      ],
      "metadata": {
        "id": "ftajTtfaKgYO"
      },
      "execution_count": null,
      "outputs": []
    },
    {
      "cell_type": "code",
      "source": [
        "point = 55\n",
        "if point > 60:\n",
        "   print(\"A\")\n",
        "elif point > 65:\n",
        "  print(\"B\")\n",
        "else:\n",
        "  print(\"C\")\n"
      ],
      "metadata": {
        "colab": {
          "base_uri": "https://localhost:8080/"
        },
        "id": "nkJZafFOKgWO",
        "outputId": "4f426b80-e95f-4efb-b72d-5ea8b2c998f8"
      },
      "execution_count": null,
      "outputs": [
        {
          "output_type": "stream",
          "name": "stdout",
          "text": [
            "C\n"
          ]
        }
      ]
    },
    {
      "cell_type": "code",
      "source": [
        "point = 55\n",
        "if point > 60:\n",
        "   print(\"A\")"
      ],
      "metadata": {
        "id": "u6E42MtIKgUV"
      },
      "execution_count": null,
      "outputs": []
    },
    {
      "cell_type": "code",
      "source": [
        "point = 55\n",
        "if point > 60:\n",
        "   print(\"A\")\n",
        "elif point > 65:\n",
        "  print(\"B\")"
      ],
      "metadata": {
        "id": "TglhtnSrKgSa"
      },
      "execution_count": null,
      "outputs": []
    },
    {
      "cell_type": "code",
      "source": [
        "score=85\n",
        "if score > 90:\n",
        "   print(\"A\")\n",
        "elif score > 80:\n",
        "  print(\"B\")\n",
        "else:\n",
        "  print(\"C\")"
      ],
      "metadata": {
        "colab": {
          "base_uri": "https://localhost:8080/"
        },
        "id": "HMOxjw-SKgQV",
        "outputId": "9f40717f-9067-40db-fa7d-5e0fc79815c5"
      },
      "execution_count": null,
      "outputs": [
        {
          "output_type": "stream",
          "name": "stdout",
          "text": [
            "B\n"
          ]
        }
      ]
    },
    {
      "cell_type": "code",
      "source": [
        "name = \"Alice\"\n",
        "if name == \"Alice\":\n",
        "    print(\"welcome Alice\")"
      ],
      "metadata": {
        "colab": {
          "base_uri": "https://localhost:8080/"
        },
        "id": "W0SDyfHWKgOQ",
        "outputId": "d48b4b36-61dc-4aa9-b93c-a0705659ba8f"
      },
      "execution_count": null,
      "outputs": [
        {
          "output_type": "stream",
          "name": "stdout",
          "text": [
            "welcome Alice\n"
          ]
        }
      ]
    },
    {
      "cell_type": "code",
      "source": [
        "age = 18\n",
        "if age >= 18:\n",
        "    print(\"You are eligible to vote.\")\n",
        "else:\n",
        "    print(\"You are not eligible to vote.\")"
      ],
      "metadata": {
        "colab": {
          "base_uri": "https://localhost:8080/"
        },
        "id": "sbi2dzgIKgMR",
        "outputId": "b9d4e63b-54cd-493d-a9a2-d83da23e8807"
      },
      "execution_count": null,
      "outputs": [
        {
          "output_type": "stream",
          "name": "stdout",
          "text": [
            "You are eligible to vote.\n"
          ]
        }
      ]
    },
    {
      "cell_type": "code",
      "source": [
        "age = 17\n",
        "if age >= 18:\n",
        "    print(\"You are eligible to vote.\")\n",
        "else:\n",
        "    print(\"You are not eligible to vote.\")"
      ],
      "metadata": {
        "colab": {
          "base_uri": "https://localhost:8080/"
        },
        "id": "R1JGy9oVKgKE",
        "outputId": "527967b0-3f4a-4118-9422-f4ea0212fb33"
      },
      "execution_count": null,
      "outputs": [
        {
          "output_type": "stream",
          "name": "stdout",
          "text": [
            "You are not eligible to vote.\n"
          ]
        }
      ]
    },
    {
      "cell_type": "code",
      "source": [
        "age = 21\n",
        "if age >= 18:\n",
        "    print(\"You are eligible to vote.\")\n",
        "else:\n",
        "    print(\"You are not eligible to vote.\")"
      ],
      "metadata": {
        "colab": {
          "base_uri": "https://localhost:8080/"
        },
        "id": "I_vgggvVKgIL",
        "outputId": "d9cb96c3-231f-40ee-d327-b06a732c9733"
      },
      "execution_count": null,
      "outputs": [
        {
          "output_type": "stream",
          "name": "stdout",
          "text": [
            "You are eligible to vote.\n"
          ]
        }
      ]
    },
    {
      "cell_type": "code",
      "source": [
        "num = 0\n",
        "if num == 0:\n",
        "  print(\"Zero\")\n",
        "else:\n",
        "  print(\"Not Zero\")"
      ],
      "metadata": {
        "colab": {
          "base_uri": "https://localhost:8080/"
        },
        "id": "7gdqwY3HKgGL",
        "outputId": "d3969daf-d2d7-40f1-e129-6b42c8e2b856"
      },
      "execution_count": null,
      "outputs": [
        {
          "output_type": "stream",
          "name": "stdout",
          "text": [
            "Zero\n"
          ]
        }
      ]
    },
    {
      "cell_type": "code",
      "source": [
        "num = 1\n",
        "if num == 0:\n",
        "  print(\"Zero\")\n",
        "else:\n",
        "  print(\"Not Zero\")"
      ],
      "metadata": {
        "colab": {
          "base_uri": "https://localhost:8080/"
        },
        "id": "xr82scImKgEd",
        "outputId": "eda64dc6-aa35-4e32-aa53-a55b0c0262c6"
      },
      "execution_count": null,
      "outputs": [
        {
          "output_type": "stream",
          "name": "stdout",
          "text": [
            "Not Zero\n"
          ]
        }
      ]
    },
    {
      "cell_type": "code",
      "source": [
        "n=7\n",
        "if n<6:\n",
        "   print(\"Negative\")\n",
        "elif n == 0:\n",
        "  print(\"Zero\")\n",
        "else:\n",
        "  print(\"Positive\")\n"
      ],
      "metadata": {
        "colab": {
          "base_uri": "https://localhost:8080/"
        },
        "id": "a26MjaOoKgCi",
        "outputId": "3d1640f3-f5d8-48c2-8854-3c2828587330"
      },
      "execution_count": null,
      "outputs": [
        {
          "output_type": "stream",
          "name": "stdout",
          "text": [
            "Positive\n"
          ]
        }
      ]
    },
    {
      "cell_type": "code",
      "source": [
        "temp = 30\n",
        "if temp > 25:\n",
        "  print(\"It's a hot day\")\n",
        "else:\n",
        "  print(\"It's not a hot day\")"
      ],
      "metadata": {
        "colab": {
          "base_uri": "https://localhost:8080/"
        },
        "id": "zChU9ehDKgAb",
        "outputId": "6d4af544-5287-4f0a-eb31-688497579d83"
      },
      "execution_count": null,
      "outputs": [
        {
          "output_type": "stream",
          "name": "stdout",
          "text": [
            "It's a hot day\n"
          ]
        }
      ]
    },
    {
      "cell_type": "code",
      "source": [
        "language = \"Python\"\n",
        "if language == \"Python\":\n",
        "  print(\"Language matched\")"
      ],
      "metadata": {
        "colab": {
          "base_uri": "https://localhost:8080/"
        },
        "id": "F9MqJsR3Kf-a",
        "outputId": "8d614e11-d61d-4ea9-f915-2ebd9b1c65af"
      },
      "execution_count": null,
      "outputs": [
        {
          "output_type": "stream",
          "name": "stdout",
          "text": [
            "Language matched\n"
          ]
        }
      ]
    },
    {
      "cell_type": "code",
      "source": [
        "language = \"Python\"\n",
        "if language == \"Java\":\n",
        "  print(\"Language matched\")"
      ],
      "metadata": {
        "id": "GJjujYVAKf8g"
      },
      "execution_count": null,
      "outputs": []
    },
    {
      "cell_type": "code",
      "source": [
        "marks = 65\n",
        "if marks >= 90:\n",
        "  print(\"Excellent\")\n",
        "elif marks >= 75:\n",
        "  print(\"Very Good\")\n",
        "elif marks >=50:\n",
        "  print(\"Good\")\n",
        "else:\n",
        "  print(\"Fail\")"
      ],
      "metadata": {
        "colab": {
          "base_uri": "https://localhost:8080/"
        },
        "id": "9FYjA5YKKf6f",
        "outputId": "f6f737de-4dfd-4a98-e70c-488e2c3729ea"
      },
      "execution_count": null,
      "outputs": [
        {
          "output_type": "stream",
          "name": "stdout",
          "text": [
            "Good\n"
          ]
        }
      ]
    },
    {
      "cell_type": "code",
      "source": [
        "flag = True\n",
        "if flag:\n",
        "  print(\"Flag is True\")"
      ],
      "metadata": {
        "colab": {
          "base_uri": "https://localhost:8080/"
        },
        "id": "_yoegoxfKf4r",
        "outputId": "e51ef125-9188-4efe-9303-e527a2dabd66"
      },
      "execution_count": null,
      "outputs": [
        {
          "output_type": "stream",
          "name": "stdout",
          "text": [
            "Flag is True\n"
          ]
        }
      ]
    },
    {
      "cell_type": "code",
      "source": [
        "a, b = 10, 20\n",
        "if a < b:\n",
        "  print(\"a is less than b\")"
      ],
      "metadata": {
        "colab": {
          "base_uri": "https://localhost:8080/"
        },
        "id": "lQ4MAA75Kf2k",
        "outputId": "aa5bd92f-ae4f-4d5f-938d-4ff8fce64512"
      },
      "execution_count": null,
      "outputs": [
        {
          "output_type": "stream",
          "name": "stdout",
          "text": [
            "a is less than b\n"
          ]
        }
      ]
    },
    {
      "cell_type": "code",
      "source": [
        "x == 100\n",
        "if x % 2 == 0:\n",
        "  print(\"Even\")\n",
        "else:\n",
        "  print(\"Odd\")\n"
      ],
      "metadata": {
        "colab": {
          "base_uri": "https://localhost:8080/"
        },
        "id": "Pexf3N3kKf0n",
        "outputId": "c73c8cef-da53-40e6-c4f7-5e75ff26be65"
      },
      "execution_count": null,
      "outputs": [
        {
          "output_type": "stream",
          "name": "stdout",
          "text": [
            "Odd\n"
          ]
        }
      ]
    },
    {
      "cell_type": "code",
      "source": [
        "grade = 'A'\n",
        "if grade == 'A':\n",
        "  print(\"Excellent\")\n",
        "elif grade == 'B':\n",
        "  print(\"Good\")\n",
        "elif grade == 'C':\n",
        "  print(\"Fair\")\n",
        "else:\n",
        "  print(\"Poor\")"
      ],
      "metadata": {
        "colab": {
          "base_uri": "https://localhost:8080/"
        },
        "id": "hdab5TUsKfyl",
        "outputId": "2f3f2165-9225-4452-c6e9-83d2cef526f5"
      },
      "execution_count": null,
      "outputs": [
        {
          "output_type": "stream",
          "name": "stdout",
          "text": [
            "Excellent\n"
          ]
        }
      ]
    },
    {
      "cell_type": "code",
      "source": [
        "price = 120\n",
        "if price > 100:\n",
        "  print(\"Too expensive\")\n"
      ],
      "metadata": {
        "colab": {
          "base_uri": "https://localhost:8080/"
        },
        "id": "t2LjmDnAKfwX",
        "outputId": "a52a4055-d897-457f-d0a8-2ce07e81dfaa"
      },
      "execution_count": null,
      "outputs": [
        {
          "output_type": "stream",
          "name": "stdout",
          "text": [
            "Too expensive\n"
          ]
        }
      ]
    },
    {
      "cell_type": "code",
      "source": [
        "rain = False\n",
        "if rain:\n",
        "  print(\"Bring an umbrella\")\n",
        "else:\n",
        "  print(\"No need for an umbrella\")"
      ],
      "metadata": {
        "id": "Jkdxc1KqKfue",
        "colab": {
          "base_uri": "https://localhost:8080/"
        },
        "outputId": "9fe7c1c7-e4eb-442e-f36f-63a59668277c"
      },
      "execution_count": null,
      "outputs": [
        {
          "output_type": "stream",
          "name": "stdout",
          "text": [
            "No need for an umbrella\n"
          ]
        }
      ]
    },
    {
      "cell_type": "code",
      "source": [
        "fruit = \"apple\"\n",
        "if fruit in [\"apple\",\"bananna\",\"mango\"]:\n",
        "  print(\"Available\")"
      ],
      "metadata": {
        "colab": {
          "base_uri": "https://localhost:8080/"
        },
        "id": "AfP1twiddaVb",
        "outputId": "a047e990-20b2-4f4d-a29e-28b96c2c6333"
      },
      "execution_count": null,
      "outputs": [
        {
          "output_type": "stream",
          "name": "stdout",
          "text": [
            "Available\n"
          ]
        }
      ]
    },
    {
      "cell_type": "code",
      "source": [
        "x = 25\n",
        "if x > 10 and x <30:\n",
        "  print(\"In range\")"
      ],
      "metadata": {
        "id": "UQ6JTNo4Kfsi",
        "colab": {
          "base_uri": "https://localhost:8080/"
        },
        "outputId": "1f17556c-9b83-4654-d177-1d3c05054462"
      },
      "execution_count": null,
      "outputs": [
        {
          "output_type": "stream",
          "name": "stdout",
          "text": [
            "In range\n"
          ]
        }
      ]
    },
    {
      "cell_type": "code",
      "source": [
        "balance = 500\n",
        "withdraw = 600\n",
        "if balance >= withdraw:\n",
        "  print(\"Enough balance\")\n",
        "else:\n",
        "  print(\"Insufficient balance\")"
      ],
      "metadata": {
        "id": "GrcXPeZXKfqg",
        "colab": {
          "base_uri": "https://localhost:8080/"
        },
        "outputId": "9d9775dc-01e8-43b5-a4b1-6340ac3c8670"
      },
      "execution_count": null,
      "outputs": [
        {
          "output_type": "stream",
          "name": "stdout",
          "text": [
            "Insufficient balance\n"
          ]
        }
      ]
    },
    {
      "cell_type": "code",
      "source": [
        "char = 'z'\n",
        "if char.isalpha():\n",
        "  print(\"Albhabet\")"
      ],
      "metadata": {
        "id": "RYhA5tcNKfok",
        "colab": {
          "base_uri": "https://localhost:8080/"
        },
        "outputId": "65ce3dcb-9536-4182-91ee-7afb81f475db"
      },
      "execution_count": null,
      "outputs": [
        {
          "output_type": "stream",
          "name": "stdout",
          "text": [
            "Albhabet\n"
          ]
        }
      ]
    },
    {
      "cell_type": "code",
      "source": [
        "x = 0\n",
        "if not x:\n",
        "  print(\"x is zero\")"
      ],
      "metadata": {
        "id": "yWfmuq0PKfmo",
        "colab": {
          "base_uri": "https://localhost:8080/"
        },
        "outputId": "c4f11e3a-fc89-4d69-a801-f06200319f16"
      },
      "execution_count": null,
      "outputs": [
        {
          "output_type": "stream",
          "name": "stdout",
          "text": [
            "x is zero\n"
          ]
        }
      ]
    },
    {
      "cell_type": "code",
      "source": [
        "time = 14\n",
        "if time < 12:\n",
        "  print(\"Good morning\")\n",
        "elif time < 18:\n",
        "  print(\"Good afternoon\")\n",
        "else:\n",
        "  print(\"Good evening\")"
      ],
      "metadata": {
        "id": "uLWWpKt1Kfkq",
        "colab": {
          "base_uri": "https://localhost:8080/"
        },
        "outputId": "0f8a105e-6aca-4253-8c6c-f40e8e141431"
      },
      "execution_count": null,
      "outputs": [
        {
          "output_type": "stream",
          "name": "stdout",
          "text": [
            "Good afternoon\n"
          ]
        }
      ]
    },
    {
      "cell_type": "code",
      "source": [
        "n = 21\n",
        "if n % 7 ==0:\n",
        "  print(\"Divisible by 7\")"
      ],
      "metadata": {
        "id": "S5qYjygTKfjA",
        "colab": {
          "base_uri": "https://localhost:8080/"
        },
        "outputId": "7c0e97c2-73a7-400d-a4aa-ce23969dea83"
      },
      "execution_count": null,
      "outputs": [
        {
          "output_type": "stream",
          "name": "stdout",
          "text": [
            "Divisible by 7\n"
          ]
        }
      ]
    },
    {
      "cell_type": "code",
      "source": [
        "x = 10\n",
        "if x != 0:\n",
        "  print(\"Not zero\")"
      ],
      "metadata": {
        "id": "SJnKeQISKfg7",
        "colab": {
          "base_uri": "https://localhost:8080/"
        },
        "outputId": "29a27b84-aec2-4ddf-a670-2b97af2cba82"
      },
      "execution_count": null,
      "outputs": [
        {
          "output_type": "stream",
          "name": "stdout",
          "text": [
            "Not zero\n"
          ]
        }
      ]
    },
    {
      "cell_type": "code",
      "source": [
        "count = 0\n",
        "if count == 0:\n",
        "  print(\"Empty\")"
      ],
      "metadata": {
        "id": "KeHu-i34Kfe0",
        "colab": {
          "base_uri": "https://localhost:8080/"
        },
        "outputId": "d97f83e3-59bf-4815-a2a7-35ca1476b22b"
      },
      "execution_count": null,
      "outputs": [
        {
          "output_type": "stream",
          "name": "stdout",
          "text": [
            "Empty\n"
          ]
        }
      ]
    },
    {
      "cell_type": "code",
      "source": [
        "email = \"user@examplle.com\"\n",
        "if \"@\" in email:\n",
        "  print(\"Valid email\")"
      ],
      "metadata": {
        "id": "YmSaWZOAKfdB",
        "colab": {
          "base_uri": "https://localhost:8080/"
        },
        "outputId": "3af9de55-c2f6-4e6f-a692-8da787675a40"
      },
      "execution_count": null,
      "outputs": [
        {
          "output_type": "stream",
          "name": "stdout",
          "text": [
            "Valid email\n"
          ]
        }
      ]
    },
    {
      "cell_type": "code",
      "source": [
        "x = 9\n",
        "if x in [1,3,5,7,9]:\n",
        "  print(\"Odd single-digit\")"
      ],
      "metadata": {
        "id": "puCsp8KCKfa8",
        "colab": {
          "base_uri": "https://localhost:8080/"
        },
        "outputId": "44684f0a-981d-4309-8a77-991944300ed6"
      },
      "execution_count": null,
      "outputs": [
        {
          "output_type": "stream",
          "name": "stdout",
          "text": [
            "Odd single-digit\n"
          ]
        }
      ]
    },
    {
      "cell_type": "code",
      "source": [
        "score = 55\n",
        "if score >= 90:\n",
        "  print(\"A\")\n",
        "elif score >= 80:\n",
        "  print(\"B\")\n",
        "elif score >= 70:\n",
        "  print(\"C\")\n",
        "else:\n",
        "  print(\"D\")"
      ],
      "metadata": {
        "id": "nD4zRZLaKfZH",
        "colab": {
          "base_uri": "https://localhost:8080/"
        },
        "outputId": "5d33e63c-a1c1-4abf-8151-c4e31342431b"
      },
      "execution_count": null,
      "outputs": [
        {
          "output_type": "stream",
          "name": "stdout",
          "text": [
            "D\n"
          ]
        }
      ]
    },
    {
      "cell_type": "code",
      "source": [
        "logged_in = True\n",
        "if logged_in:\n",
        "  print(\"Logged in\")"
      ],
      "metadata": {
        "id": "t0G0P7qSKfXM",
        "colab": {
          "base_uri": "https://localhost:8080/"
        },
        "outputId": "61de434a-1c8c-4982-ddf1-b55c171ea076"
      },
      "execution_count": null,
      "outputs": [
        {
          "output_type": "stream",
          "name": "stdout",
          "text": [
            "Logged in\n"
          ]
        }
      ]
    },
    {
      "cell_type": "code",
      "source": [
        "for i in range(1,6):\n",
        "  print(6-i)"
      ],
      "metadata": {
        "id": "q_5bGeX1KfVD",
        "colab": {
          "base_uri": "https://localhost:8080/"
        },
        "outputId": "a06a88ee-b17d-45ff-d575-bedd1979e975"
      },
      "execution_count": 20,
      "outputs": [
        {
          "output_type": "stream",
          "name": "stdout",
          "text": [
            "5\n",
            "4\n",
            "3\n",
            "2\n",
            "1\n"
          ]
        }
      ]
    },
    {
      "cell_type": "code",
      "source": [
        "for i in range (1,10):\n",
        "  print(\"data\")\n",
        "  print(\"data\")"
      ],
      "metadata": {
        "id": "whSv-JBdKfTL",
        "colab": {
          "base_uri": "https://localhost:8080/"
        },
        "outputId": "e0f9d0d7-8821-4115-ea7f-8162b29d2662"
      },
      "execution_count": 21,
      "outputs": [
        {
          "output_type": "stream",
          "name": "stdout",
          "text": [
            "data\n",
            "data\n",
            "data\n",
            "data\n",
            "data\n",
            "data\n",
            "data\n",
            "data\n",
            "data\n",
            "data\n",
            "data\n",
            "data\n",
            "data\n",
            "data\n",
            "data\n",
            "data\n",
            "data\n",
            "data\n"
          ]
        }
      ]
    },
    {
      "cell_type": "code",
      "source": [
        "for i in range(0,2):\n",
        "  print(\"Data\". upper())\n",
        "  print(\"Data\". lower())"
      ],
      "metadata": {
        "id": "VMEj9H8nKfRM",
        "colab": {
          "base_uri": "https://localhost:8080/"
        },
        "outputId": "ac49f5e7-612c-46d8-db29-03107ac68689"
      },
      "execution_count": 22,
      "outputs": [
        {
          "output_type": "stream",
          "name": "stdout",
          "text": [
            "DATA\n",
            "data\n",
            "DATA\n",
            "data\n"
          ]
        }
      ]
    },
    {
      "cell_type": "code",
      "source": [
        "for i in range(0,10):\n",
        "  print(i)"
      ],
      "metadata": {
        "id": "iIr11uCLKfPO",
        "colab": {
          "base_uri": "https://localhost:8080/"
        },
        "outputId": "67b8cf29-23a2-4b0f-8af3-b993777f0474"
      },
      "execution_count": 23,
      "outputs": [
        {
          "output_type": "stream",
          "name": "stdout",
          "text": [
            "0\n",
            "1\n",
            "2\n",
            "3\n",
            "4\n",
            "5\n",
            "6\n",
            "7\n",
            "8\n",
            "9\n"
          ]
        }
      ]
    },
    {
      "cell_type": "code",
      "source": [
        "x = \"data\"\n",
        "for i in range (1,5):\n",
        "  print(x[0:i])"
      ],
      "metadata": {
        "id": "l1QOt_stKfM-",
        "colab": {
          "base_uri": "https://localhost:8080/"
        },
        "outputId": "08b73188-9ed2-4d01-ed8b-86a26852f322"
      },
      "execution_count": 27,
      "outputs": [
        {
          "output_type": "stream",
          "name": "stdout",
          "text": [
            "d\n",
            "da\n",
            "dat\n",
            "data\n"
          ]
        }
      ]
    },
    {
      "cell_type": "code",
      "source": [],
      "metadata": {
        "id": "LqHGpPd0KfLN"
      },
      "execution_count": null,
      "outputs": []
    },
    {
      "cell_type": "code",
      "source": [
        "x = \"data fgleifgjklrefdoghrtgfjlrtgokjrej sfopidjh\"\n",
        "for i in range (1,len(x)):\n",
        "  print(x[0:i])"
      ],
      "metadata": {
        "colab": {
          "base_uri": "https://localhost:8080/"
        },
        "outputId": "32752c3c-caf2-4a0f-eed2-ba756282d4c2",
        "id": "YKMmmCSmlPW6"
      },
      "execution_count": 29,
      "outputs": [
        {
          "output_type": "stream",
          "name": "stdout",
          "text": [
            "d\n",
            "da\n",
            "dat\n",
            "data\n",
            "data \n",
            "data f\n",
            "data fg\n",
            "data fgl\n",
            "data fgle\n",
            "data fglei\n",
            "data fgleif\n",
            "data fgleifg\n",
            "data fgleifgj\n",
            "data fgleifgjk\n",
            "data fgleifgjkl\n",
            "data fgleifgjklr\n",
            "data fgleifgjklre\n",
            "data fgleifgjklref\n",
            "data fgleifgjklrefd\n",
            "data fgleifgjklrefdo\n",
            "data fgleifgjklrefdog\n",
            "data fgleifgjklrefdogh\n",
            "data fgleifgjklrefdoghr\n",
            "data fgleifgjklrefdoghrt\n",
            "data fgleifgjklrefdoghrtg\n",
            "data fgleifgjklrefdoghrtgf\n",
            "data fgleifgjklrefdoghrtgfj\n",
            "data fgleifgjklrefdoghrtgfjl\n",
            "data fgleifgjklrefdoghrtgfjlr\n",
            "data fgleifgjklrefdoghrtgfjlrt\n",
            "data fgleifgjklrefdoghrtgfjlrtg\n",
            "data fgleifgjklrefdoghrtgfjlrtgo\n",
            "data fgleifgjklrefdoghrtgfjlrtgok\n",
            "data fgleifgjklrefdoghrtgfjlrtgokj\n",
            "data fgleifgjklrefdoghrtgfjlrtgokjr\n",
            "data fgleifgjklrefdoghrtgfjlrtgokjre\n",
            "data fgleifgjklrefdoghrtgfjlrtgokjrej\n",
            "data fgleifgjklrefdoghrtgfjlrtgokjrej \n",
            "data fgleifgjklrefdoghrtgfjlrtgokjrej s\n",
            "data fgleifgjklrefdoghrtgfjlrtgokjrej sf\n",
            "data fgleifgjklrefdoghrtgfjlrtgokjrej sfo\n",
            "data fgleifgjklrefdoghrtgfjlrtgokjrej sfop\n",
            "data fgleifgjklrefdoghrtgfjlrtgokjrej sfopi\n",
            "data fgleifgjklrefdoghrtgfjlrtgokjrej sfopid\n",
            "data fgleifgjklrefdoghrtgfjlrtgokjrej sfopidj\n"
          ]
        }
      ]
    },
    {
      "cell_type": "code",
      "source": [
        "x=\"data science machine !1!@#$%$ learning\"\n"
      ],
      "metadata": {
        "id": "mxB09vvXKfJN"
      },
      "execution_count": 30,
      "outputs": []
    },
    {
      "cell_type": "code",
      "source": [
        "x"
      ],
      "metadata": {
        "id": "HzpjF-PAKfHb",
        "colab": {
          "base_uri": "https://localhost:8080/",
          "height": 36
        },
        "outputId": "1ba4b543-cd81-46cc-f9ff-a295a11f9886"
      },
      "execution_count": 31,
      "outputs": [
        {
          "output_type": "execute_result",
          "data": {
            "text/plain": [
              "'data science machine !1!@#$%$ learning'"
            ],
            "application/vnd.google.colaboratory.intrinsic+json": {
              "type": "string"
            }
          },
          "metadata": {},
          "execution_count": 31
        }
      ]
    },
    {
      "cell_type": "code",
      "source": [
        "len(x)"
      ],
      "metadata": {
        "id": "AYnXFNuyKfFW",
        "colab": {
          "base_uri": "https://localhost:8080/"
        },
        "outputId": "771d20cc-ca2b-486d-b84d-d285ca013682"
      },
      "execution_count": 32,
      "outputs": [
        {
          "output_type": "execute_result",
          "data": {
            "text/plain": [
              "38"
            ]
          },
          "metadata": {},
          "execution_count": 32
        }
      ]
    },
    {
      "cell_type": "code",
      "source": [
        "for i in x:\n",
        "  if i.isalpha():\n",
        "    print(i)"
      ],
      "metadata": {
        "id": "mLqubXNyKfDP",
        "colab": {
          "base_uri": "https://localhost:8080/"
        },
        "outputId": "7cbe2535-4c10-47d8-8475-b0653bb974d5"
      },
      "execution_count": 34,
      "outputs": [
        {
          "output_type": "stream",
          "name": "stdout",
          "text": [
            "d\n",
            "a\n",
            "t\n",
            "a\n",
            "s\n",
            "c\n",
            "i\n",
            "e\n",
            "n\n",
            "c\n",
            "e\n",
            "m\n",
            "a\n",
            "c\n",
            "h\n",
            "i\n",
            "n\n",
            "e\n",
            "l\n",
            "e\n",
            "a\n",
            "r\n",
            "n\n",
            "i\n",
            "n\n",
            "g\n"
          ]
        }
      ]
    },
    {
      "cell_type": "code",
      "source": [
        "counter=0\n",
        "for i in x:\n",
        "  if i.isalpha()==False:\n",
        "    print(i,end=\",\")\n",
        "    counter=counter+1"
      ],
      "metadata": {
        "id": "qhZ3PvE7KfBT",
        "colab": {
          "base_uri": "https://localhost:8080/"
        },
        "outputId": "3135270d-4d7d-4a58-ca47-37eab4d4c3e4"
      },
      "execution_count": 36,
      "outputs": [
        {
          "output_type": "stream",
          "name": "stdout",
          "text": [
            " , , ,!,1,!,@,#,$,%,$, ,"
          ]
        }
      ]
    },
    {
      "cell_type": "code",
      "source": [
        "x"
      ],
      "metadata": {
        "id": "7K4rnUXwKe_a",
        "colab": {
          "base_uri": "https://localhost:8080/",
          "height": 36
        },
        "outputId": "d7ed1a93-b2f5-4b69-c115-6ad2547b416b"
      },
      "execution_count": 37,
      "outputs": [
        {
          "output_type": "execute_result",
          "data": {
            "text/plain": [
              "'data science machine !1!@#$%$ learning'"
            ],
            "application/vnd.google.colaboratory.intrinsic+json": {
              "type": "string"
            }
          },
          "metadata": {},
          "execution_count": 37
        }
      ]
    },
    {
      "cell_type": "code",
      "source": [],
      "metadata": {
        "id": "f9Ri4qj7Ke9t"
      },
      "execution_count": null,
      "outputs": []
    },
    {
      "cell_type": "code",
      "source": [],
      "metadata": {
        "id": "P8hCWMY2Ke7U"
      },
      "execution_count": null,
      "outputs": []
    },
    {
      "cell_type": "code",
      "source": [],
      "metadata": {
        "id": "wFHSoKQ9Ke41"
      },
      "execution_count": null,
      "outputs": []
    },
    {
      "cell_type": "code",
      "source": [],
      "metadata": {
        "id": "oZEYVPDIKe2w"
      },
      "execution_count": null,
      "outputs": []
    },
    {
      "cell_type": "code",
      "source": [],
      "metadata": {
        "id": "JJZli5g0Ke05"
      },
      "execution_count": null,
      "outputs": []
    },
    {
      "cell_type": "code",
      "source": [],
      "metadata": {
        "id": "SMXnGRClKey4"
      },
      "execution_count": null,
      "outputs": []
    },
    {
      "cell_type": "code",
      "source": [],
      "metadata": {
        "id": "BJgrghZjKew4"
      },
      "execution_count": null,
      "outputs": []
    },
    {
      "cell_type": "code",
      "source": [],
      "metadata": {
        "id": "h-Lqth6sKeu6"
      },
      "execution_count": null,
      "outputs": []
    },
    {
      "cell_type": "code",
      "source": [],
      "metadata": {
        "id": "a3j7oAAJKesd"
      },
      "execution_count": null,
      "outputs": []
    },
    {
      "cell_type": "code",
      "source": [],
      "metadata": {
        "id": "OWXFGwYEKepf"
      },
      "execution_count": null,
      "outputs": []
    },
    {
      "cell_type": "code",
      "source": [],
      "metadata": {
        "id": "hrMY5XD8Kem_"
      },
      "execution_count": null,
      "outputs": []
    },
    {
      "cell_type": "code",
      "source": [],
      "metadata": {
        "id": "RHqs7NkiKekd"
      },
      "execution_count": null,
      "outputs": []
    }
  ]
}