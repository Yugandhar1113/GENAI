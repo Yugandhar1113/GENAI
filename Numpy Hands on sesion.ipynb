{
  "nbformat": 4,
  "nbformat_minor": 0,
  "metadata": {
    "colab": {
      "provenance": []
    },
    "kernelspec": {
      "name": "python3",
      "display_name": "Python 3"
    },
    "language_info": {
      "name": "python"
    }
  },
  "cells": [
    {
      "cell_type": "code",
      "source": [
        "import numpy as np\n",
        "\n",
        "#Retail dataset as numpy array\n",
        "retail_np_array=np.array([\n",
        "    [1001, \"Laptop\", 1, 50000, 50000],\n",
        "    [1002, \"Mouse\", 2, 500, 1000],\n",
        "    [1003, \"Keyboard\", 1, 1000, 1000],\n",
        "    [1004, \"Monitor\", 1, 7000, 14000],\n",
        "    [1005, \"Headphones\", 1, 2000, 2000],\n",
        "], dtype=object)\n",
        "retail_np_array"
      ],
      "metadata": {
        "colab": {
          "base_uri": "https://localhost:8080/"
        },
        "id": "rwG4OW_iCgl8",
        "outputId": "e8d583e5-f0ee-495e-c8c8-ba98d3e5c0d9"
      },
      "execution_count": null,
      "outputs": [
        {
          "output_type": "execute_result",
          "data": {
            "text/plain": [
              "array([[1001, 'Laptop', 1, 50000, 50000],\n",
              "       [1002, 'Mouse', 2, 500, 1000],\n",
              "       [1003, 'Keyboard', 1, 1000, 1000],\n",
              "       [1004, 'Monitor', 1, 7000, 14000],\n",
              "       [1005, 'Headphones', 1, 2000, 2000]], dtype=object)"
            ]
          },
          "metadata": {},
          "execution_count": 36
        }
      ]
    },
    {
      "cell_type": "code",
      "source": [
        "#Extracting columns\n",
        "customer_ids = retail_np_array[:, 0]\n",
        "products = retail_np_array[:, 1]\n",
        "qunatities = retail_np_array[:, 2].astype(int)\n",
        "prices = retail_np_array[:, 3].astype(int)\n",
        "totals = retail_np_array[:, 4].astype(int)\n",
        "retail_np_array"
      ],
      "metadata": {
        "colab": {
          "base_uri": "https://localhost:8080/"
        },
        "id": "rVu73pdZCgo2",
        "outputId": "efab374f-2052-4ba0-dbdd-ebd2a9ea631f"
      },
      "execution_count": null,
      "outputs": [
        {
          "output_type": "execute_result",
          "data": {
            "text/plain": [
              "array([[1001, 'Laptop', 1, 50000, 50000],\n",
              "       [1002, 'Mouse', 2, 500, 1000],\n",
              "       [1003, 'Keyboard', 1, 1000, 1000],\n",
              "       [1004, 'Monitor', 1, 7000, 14000],\n",
              "       [1005, 'Headphones', 1, 2000, 2000]], dtype=object)"
            ]
          },
          "metadata": {},
          "execution_count": 37
        }
      ]
    },
    {
      "cell_type": "code",
      "source": [
        "retail_np_array.shape[0]"
      ],
      "metadata": {
        "colab": {
          "base_uri": "https://localhost:8080/"
        },
        "id": "eNnMn3gdCgr4",
        "outputId": "0f765e6f-754f-4a80-d169-5d9657644869"
      },
      "execution_count": null,
      "outputs": [
        {
          "output_type": "execute_result",
          "data": {
            "text/plain": [
              "5"
            ]
          },
          "metadata": {},
          "execution_count": 53
        }
      ]
    },
    {
      "cell_type": "code",
      "source": [
        "np.sum(totals)"
      ],
      "metadata": {
        "colab": {
          "base_uri": "https://localhost:8080/"
        },
        "id": "bRZiJ7dmCguk",
        "outputId": "6a9bdecb-9a85-4586-e9d9-a1ac150557ae"
      },
      "execution_count": null,
      "outputs": [
        {
          "output_type": "execute_result",
          "data": {
            "text/plain": [
              "np.int64(68000)"
            ]
          },
          "metadata": {},
          "execution_count": 39
        }
      ]
    },
    {
      "cell_type": "code",
      "source": [
        "np.mean(totals)"
      ],
      "metadata": {
        "colab": {
          "base_uri": "https://localhost:8080/"
        },
        "id": "psBeTMvZCgxd",
        "outputId": "89f1a671-cebd-4fe5-bda1-711723b5166c"
      },
      "execution_count": null,
      "outputs": [
        {
          "output_type": "execute_result",
          "data": {
            "text/plain": [
              "np.float64(13600.0)"
            ]
          },
          "metadata": {},
          "execution_count": 40
        }
      ]
    },
    {
      "cell_type": "code",
      "source": [
        "products[np.argmax(totals)]"
      ],
      "metadata": {
        "colab": {
          "base_uri": "https://localhost:8080/",
          "height": 36
        },
        "id": "qHgKQjn4Cg0Y",
        "outputId": "de6827a4-98f2-43cf-be79-010c6ba5e4ee"
      },
      "execution_count": null,
      "outputs": [
        {
          "output_type": "execute_result",
          "data": {
            "text/plain": [
              "'Laptop'"
            ],
            "application/vnd.google.colaboratory.intrinsic+json": {
              "type": "string"
            }
          },
          "metadata": {},
          "execution_count": 41
        }
      ]
    },
    {
      "cell_type": "code",
      "source": [
        "products[np.argmin(totals)]"
      ],
      "metadata": {
        "colab": {
          "base_uri": "https://localhost:8080/",
          "height": 36
        },
        "id": "BEnK7cR0Cg3U",
        "outputId": "e41848aa-b81e-44ca-c83d-0c65a7ee26f2"
      },
      "execution_count": null,
      "outputs": [
        {
          "output_type": "execute_result",
          "data": {
            "text/plain": [
              "'Mouse'"
            ],
            "application/vnd.google.colaboratory.intrinsic+json": {
              "type": "string"
            }
          },
          "metadata": {},
          "execution_count": 42
        }
      ]
    },
    {
      "cell_type": "code",
      "source": [
        "np.mean(prices)"
      ],
      "metadata": {
        "colab": {
          "base_uri": "https://localhost:8080/"
        },
        "id": "QS23Y5duCg51",
        "outputId": "09edd70e-72dd-4209-93d2-0209915c7169"
      },
      "execution_count": null,
      "outputs": [
        {
          "output_type": "execute_result",
          "data": {
            "text/plain": [
              "np.float64(12100.0)"
            ]
          },
          "metadata": {},
          "execution_count": 43
        }
      ]
    },
    {
      "cell_type": "code",
      "source": [
        "np.sum(qunatities)"
      ],
      "metadata": {
        "colab": {
          "base_uri": "https://localhost:8080/"
        },
        "id": "foPDFu_RCg9U",
        "outputId": "f5f743cf-e7d6-4977-a66a-334774dfb27f"
      },
      "execution_count": null,
      "outputs": [
        {
          "output_type": "execute_result",
          "data": {
            "text/plain": [
              "np.int64(6)"
            ]
          },
          "metadata": {},
          "execution_count": 44
        }
      ]
    },
    {
      "cell_type": "code",
      "source": [
        "np.unique(products,return_counts=True)"
      ],
      "metadata": {
        "colab": {
          "base_uri": "https://localhost:8080/"
        },
        "id": "gpkHLdSnChGI",
        "outputId": "c03d5255-60c8-4ddf-9bd6-4a304efca7da"
      },
      "execution_count": null,
      "outputs": [
        {
          "output_type": "execute_result",
          "data": {
            "text/plain": [
              "(array(['Headphones', 'Keyboard', 'Laptop', 'Monitor', 'Mouse'],\n",
              "       dtype=object),\n",
              " array([1, 1, 1, 1, 1]))"
            ]
          },
          "metadata": {},
          "execution_count": 47
        }
      ]
    },
    {
      "cell_type": "code",
      "source": [
        "len(np.unique(products))"
      ],
      "metadata": {
        "id": "wfQGYj5lLt-C",
        "outputId": "0afe8318-9cf2-42c1-819d-18213d7eb592",
        "colab": {
          "base_uri": "https://localhost:8080/"
        }
      },
      "execution_count": null,
      "outputs": [
        {
          "output_type": "execute_result",
          "data": {
            "text/plain": [
              "5"
            ]
          },
          "metadata": {},
          "execution_count": 50
        }
      ]
    },
    {
      "cell_type": "code",
      "source": [
        "len(np.unique(customer_ids))"
      ],
      "metadata": {
        "id": "Dj14a6WrLuN5",
        "outputId": "c8cb14b4-a64f-44ac-c059-f4289e0c72d1",
        "colab": {
          "base_uri": "https://localhost:8080/"
        }
      },
      "execution_count": null,
      "outputs": [
        {
          "output_type": "execute_result",
          "data": {
            "text/plain": [
              "5"
            ]
          },
          "metadata": {},
          "execution_count": 52
        }
      ]
    },
    {
      "cell_type": "code",
      "source": [
        "products.tolist()"
      ],
      "metadata": {
        "id": "tEBNFN2XL7TQ",
        "outputId": "46e9d325-4b9b-47bf-c4b2-626347535ae7",
        "colab": {
          "base_uri": "https://localhost:8080/"
        }
      },
      "execution_count": null,
      "outputs": [
        {
          "output_type": "execute_result",
          "data": {
            "text/plain": [
              "['Laptop', 'Mouse', 'Keyboard', 'Monitor', 'Headphones']"
            ]
          },
          "metadata": {},
          "execution_count": 54
        }
      ]
    },
    {
      "cell_type": "code",
      "source": [
        "{prod:np.sum(qunatities[products==prod]) for prod in np.unique(products)}"
      ],
      "metadata": {
        "id": "ICDEWKmka3gv",
        "outputId": "719ea436-3e2e-4456-8e9f-5b5e2780ba71",
        "colab": {
          "base_uri": "https://localhost:8080/"
        }
      },
      "execution_count": null,
      "outputs": [
        {
          "output_type": "execute_result",
          "data": {
            "text/plain": [
              "{'Headphones': np.int64(1),\n",
              " 'Keyboard': np.int64(1),\n",
              " 'Laptop': np.int64(1),\n",
              " 'Monitor': np.int64(1),\n",
              " 'Mouse': np.int64(2)}"
            ]
          },
          "metadata": {},
          "execution_count": 56
        }
      ]
    },
    {
      "cell_type": "code",
      "source": [
        "np.max(prices)"
      ],
      "metadata": {
        "id": "7FuPafq0a3kC",
        "outputId": "eee47be5-dbff-40ed-c886-8027e9403884",
        "colab": {
          "base_uri": "https://localhost:8080/"
        }
      },
      "execution_count": null,
      "outputs": [
        {
          "output_type": "execute_result",
          "data": {
            "text/plain": [
              "np.int64(50000)"
            ]
          },
          "metadata": {},
          "execution_count": 57
        }
      ]
    },
    {
      "cell_type": "code",
      "source": [
        "np.min(prices)"
      ],
      "metadata": {
        "id": "-KVn62TQa3ng",
        "outputId": "4e08a104-6d0f-4bab-a3e5-87b5e927991d",
        "colab": {
          "base_uri": "https://localhost:8080/"
        }
      },
      "execution_count": null,
      "outputs": [
        {
          "output_type": "execute_result",
          "data": {
            "text/plain": [
              "np.int64(500)"
            ]
          },
          "metadata": {},
          "execution_count": 58
        }
      ]
    },
    {
      "cell_type": "code",
      "source": [
        "products[qunatities>1].tolist()"
      ],
      "metadata": {
        "id": "gHnlRy4Ka3q4",
        "outputId": "07b66b6c-4d13-46ae-b6a3-675a930c47e6",
        "colab": {
          "base_uri": "https://localhost:8080/"
        }
      },
      "execution_count": null,
      "outputs": [
        {
          "output_type": "execute_result",
          "data": {
            "text/plain": [
              "['Mouse']"
            ]
          },
          "metadata": {},
          "execution_count": 59
        }
      ]
    },
    {
      "cell_type": "code",
      "source": [
        "customer_ids[qunatities>1].tolist()"
      ],
      "metadata": {
        "id": "xf8gta5ca3t-",
        "outputId": "79eed964-434d-42ab-aed1-5aeeca259886",
        "colab": {
          "base_uri": "https://localhost:8080/"
        }
      },
      "execution_count": null,
      "outputs": [
        {
          "output_type": "execute_result",
          "data": {
            "text/plain": [
              "[1002]"
            ]
          },
          "metadata": {},
          "execution_count": 61
        }
      ]
    },
    {
      "cell_type": "code",
      "source": [
        "{prod: np.sum(totals[products == prod]) for prod in np.unique(products)}"
      ],
      "metadata": {
        "id": "kfVLIuvJa3xY",
        "outputId": "94c739ef-1376-4ce6-d48e-081c55e90b58",
        "colab": {
          "base_uri": "https://localhost:8080/"
        }
      },
      "execution_count": null,
      "outputs": [
        {
          "output_type": "execute_result",
          "data": {
            "text/plain": [
              "{'Headphones': np.int64(2000),\n",
              " 'Keyboard': np.int64(1000),\n",
              " 'Laptop': np.int64(50000),\n",
              " 'Monitor': np.int64(14000),\n",
              " 'Mouse': np.int64(1000)}"
            ]
          },
          "metadata": {},
          "execution_count": 62
        }
      ]
    },
    {
      "cell_type": "code",
      "source": [
        "np.sum(totals[customer_ids==1002])"
      ],
      "metadata": {
        "id": "sY2D9_s1a31B",
        "outputId": "6097c04d-642e-43f0-c257-0f23a22da859",
        "colab": {
          "base_uri": "https://localhost:8080/"
        }
      },
      "execution_count": null,
      "outputs": [
        {
          "output_type": "execute_result",
          "data": {
            "text/plain": [
              "np.int64(1000)"
            ]
          },
          "metadata": {},
          "execution_count": 63
        }
      ]
    },
    {
      "cell_type": "code",
      "source": [
        "products[prices>1000].tolist()"
      ],
      "metadata": {
        "id": "tuG-AgXHcpq1",
        "outputId": "b7e15673-6302-4447-a858-52d82760292e",
        "colab": {
          "base_uri": "https://localhost:8080/"
        }
      },
      "execution_count": null,
      "outputs": [
        {
          "output_type": "execute_result",
          "data": {
            "text/plain": [
              "['Laptop', 'Monitor', 'Headphones']"
            ]
          },
          "metadata": {},
          "execution_count": 64
        }
      ]
    },
    {
      "cell_type": "code",
      "source": [
        "products[totals>=2000].tolist()"
      ],
      "metadata": {
        "id": "JBWSgAHEcptt",
        "outputId": "e4e5d96b-88f6-4d97-8713-3e4502f455db",
        "colab": {
          "base_uri": "https://localhost:8080/"
        }
      },
      "execution_count": null,
      "outputs": [
        {
          "output_type": "execute_result",
          "data": {
            "text/plain": [
              "['Laptop', 'Monitor', 'Headphones']"
            ]
          },
          "metadata": {},
          "execution_count": 65
        }
      ]
    },
    {
      "cell_type": "code",
      "source": [],
      "metadata": {
        "id": "KcsL8uJGcpwa"
      },
      "execution_count": null,
      "outputs": []
    }
  ]
}
