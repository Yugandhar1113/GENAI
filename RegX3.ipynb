{
  "nbformat": 4,
  "nbformat_minor": 0,
  "metadata": {
    "colab": {
      "provenance": []
    },
    "kernelspec": {
      "name": "python3",
      "display_name": "Python 3"
    },
    "language_info": {
      "name": "python"
    }
  },
  "cells": [
    {
      "cell_type": "code",
      "execution_count": null,
      "metadata": {
        "id": "iBLITNuAFjPG"
      },
      "outputs": [],
      "source": [
        "### findall : returns list of all the matches\n",
        "### search : returns a match object if there match\n",
        "### split : it divides the string into words\n",
        "### sub : replace"
      ]
    },
    {
      "cell_type": "code",
      "source": [
        "### meta chaaracters\n",
        "### special characters\n",
        "### sets"
      ],
      "metadata": {
        "id": "hIjx58Q0FsFK"
      },
      "execution_count": null,
      "outputs": []
    },
    {
      "cell_type": "code",
      "source": [
        "### meta characters"
      ],
      "metadata": {
        "id": "u1FLgOPjFsBl"
      },
      "execution_count": null,
      "outputs": []
    },
    {
      "cell_type": "code",
      "source": [
        "import re"
      ],
      "metadata": {
        "id": "RVpH2oUtFr5K"
      },
      "execution_count": 2,
      "outputs": []
    },
    {
      "cell_type": "code",
      "source": [
        "re.function(pattern,string)"
      ],
      "metadata": {
        "id": "giJ3VXJRFr3E"
      },
      "execution_count": null,
      "outputs": []
    },
    {
      "cell_type": "code",
      "source": [
        "### characterset"
      ],
      "metadata": {
        "id": "NFG2ucr8Frxy"
      },
      "execution_count": null,
      "outputs": []
    },
    {
      "cell_type": "code",
      "source": [
        "re.findall(\"[abc]\",'hello world')"
      ],
      "metadata": {
        "colab": {
          "base_uri": "https://localhost:8080/"
        },
        "id": "cZOxy-WKFrsF",
        "outputId": "e681d980-ad91-450a-d999-13a9d2d68100"
      },
      "execution_count": 3,
      "outputs": [
        {
          "output_type": "execute_result",
          "data": {
            "text/plain": [
              "[]"
            ]
          },
          "metadata": {},
          "execution_count": 3
        }
      ]
    },
    {
      "cell_type": "code",
      "source": [
        "re.findall(\"[abc]\",\"data science\")"
      ],
      "metadata": {
        "colab": {
          "base_uri": "https://localhost:8080/"
        },
        "id": "6g-kbKtuFrpN",
        "outputId": "e71a0dd6-0bd1-4814-dfd0-e0bd9bd3833a"
      },
      "execution_count": 4,
      "outputs": [
        {
          "output_type": "execute_result",
          "data": {
            "text/plain": [
              "['a', 'a', 'c', 'c']"
            ]
          },
          "metadata": {},
          "execution_count": 4
        }
      ]
    },
    {
      "cell_type": "code",
      "source": [
        "print(re.findall(r\"[0-9]\",\"Hello123\"))"
      ],
      "metadata": {
        "colab": {
          "base_uri": "https://localhost:8080/"
        },
        "id": "olwaSRqLFrXD",
        "outputId": "ee380a58-1bd3-43fb-9c02-3ccc14995275"
      },
      "execution_count": 5,
      "outputs": [
        {
          "output_type": "stream",
          "name": "stdout",
          "text": [
            "['1', '2', '3']\n"
          ]
        }
      ]
    },
    {
      "cell_type": "code",
      "source": [
        "\"\".join(re.findall(r\"\\d\",\"Room 42 0987654567-987\"))"
      ],
      "metadata": {
        "colab": {
          "base_uri": "https://localhost:8080/",
          "height": 36
        },
        "id": "ikE84IFlFrVN",
        "outputId": "11b2f96c-3df6-47a0-ea52-0015111adf9f"
      },
      "execution_count": 6,
      "outputs": [
        {
          "output_type": "execute_result",
          "data": {
            "text/plain": [
              "'420987654567987'"
            ],
            "application/vnd.google.colaboratory.intrinsic+json": {
              "type": "string"
            }
          },
          "metadata": {},
          "execution_count": 6
        }
      ]
    },
    {
      "cell_type": "code",
      "source": [
        "\"\".join(re.findall(r\"\\D\",\"Room 42 0987654567-987\"))"
      ],
      "metadata": {
        "colab": {
          "base_uri": "https://localhost:8080/",
          "height": 36
        },
        "id": "_kw0VxQKFrS4",
        "outputId": "96755f30-cf08-4e06-f8a9-9b8ebd69ec10"
      },
      "execution_count": 7,
      "outputs": [
        {
          "output_type": "execute_result",
          "data": {
            "text/plain": [
              "'Room  -'"
            ],
            "application/vnd.google.colaboratory.intrinsic+json": {
              "type": "string"
            }
          },
          "metadata": {},
          "execution_count": 7
        }
      ]
    },
    {
      "cell_type": "code",
      "source": [
        "(re.findall(r\"\\d\",\"Room 42 0987654567-987\"))"
      ],
      "metadata": {
        "colab": {
          "base_uri": "https://localhost:8080/"
        },
        "id": "Hq8rX4dgFrQ2",
        "outputId": "03de9298-4173-42e1-8b6a-5dc3f9b8e869"
      },
      "execution_count": 8,
      "outputs": [
        {
          "output_type": "execute_result",
          "data": {
            "text/plain": [
              "['4', '2', '0', '9', '8', '7', '6', '5', '4', '5', '6', '7', '9', '8', '7']"
            ]
          },
          "metadata": {},
          "execution_count": 8
        }
      ]
    },
    {
      "cell_type": "code",
      "source": [
        "(re.findall(r\"\\D\",\"Room 42 0987654567-987\"))"
      ],
      "metadata": {
        "colab": {
          "base_uri": "https://localhost:8080/"
        },
        "id": "EVnDBhxuFrOq",
        "outputId": "9e798d65-a4f5-4c85-e849-48baf7120f38"
      },
      "execution_count": 9,
      "outputs": [
        {
          "output_type": "execute_result",
          "data": {
            "text/plain": [
              "['R', 'o', 'o', 'm', ' ', ' ', '-']"
            ]
          },
          "metadata": {},
          "execution_count": 9
        }
      ]
    },
    {
      "cell_type": "code",
      "source": [
        "(re.findall(r\"\\$\",\"Room 42 0987654567-987\"))"
      ],
      "metadata": {
        "colab": {
          "base_uri": "https://localhost:8080/"
        },
        "id": "Z8GpivtOFrMq",
        "outputId": "dbb3ca65-ccb0-46b3-b9f6-184fffe753ea"
      },
      "execution_count": 10,
      "outputs": [
        {
          "output_type": "execute_result",
          "data": {
            "text/plain": [
              "[]"
            ]
          },
          "metadata": {},
          "execution_count": 10
        }
      ]
    },
    {
      "cell_type": "code",
      "source": [
        "### \\d : digit numbers\n",
        "### \\D : Non digits"
      ],
      "metadata": {
        "id": "efwccse1FrKS"
      },
      "execution_count": null,
      "outputs": []
    },
    {
      "cell_type": "code",
      "source": [
        "### \\w matches letters digits and underscore"
      ],
      "metadata": {
        "id": "4N7572mJJZOo"
      },
      "execution_count": null,
      "outputs": []
    },
    {
      "cell_type": "code",
      "source": [
        "re.findall(\"\\w\",\"Room 42 _#$%&^%45\")"
      ],
      "metadata": {
        "colab": {
          "base_uri": "https://localhost:8080/"
        },
        "id": "TkkvsLuEFrHl",
        "outputId": "01a1ff67-9f84-4a35-a32a-c3100220ba87"
      },
      "execution_count": 11,
      "outputs": [
        {
          "output_type": "execute_result",
          "data": {
            "text/plain": [
              "['R', 'o', 'o', 'm', '4', '2', '_', '4', '5']"
            ]
          },
          "metadata": {},
          "execution_count": 11
        }
      ]
    },
    {
      "cell_type": "code",
      "source": [
        "re.findall(\"h.t\",\"hat, hit, hothit\")"
      ],
      "metadata": {
        "colab": {
          "base_uri": "https://localhost:8080/"
        },
        "id": "TmEqTMAvFrFS",
        "outputId": "63c31f1e-2df8-4308-9d62-dcab40a59ae6"
      },
      "execution_count": 12,
      "outputs": [
        {
          "output_type": "execute_result",
          "data": {
            "text/plain": [
              "['hat', 'hit', 'hot', 'hit']"
            ]
          },
          "metadata": {},
          "execution_count": 12
        }
      ]
    },
    {
      "cell_type": "code",
      "source": [
        "re.findall(\"y.g\",\"yug, yuv, yuvyug, yogi\")"
      ],
      "metadata": {
        "colab": {
          "base_uri": "https://localhost:8080/"
        },
        "id": "O2ZnJckZFrDO",
        "outputId": "5615c1b0-427d-4c50-db6a-80040cf63bd0"
      },
      "execution_count": 15,
      "outputs": [
        {
          "output_type": "execute_result",
          "data": {
            "text/plain": [
              "['yug', 'yug', 'yog']"
            ]
          },
          "metadata": {},
          "execution_count": 15
        }
      ]
    },
    {
      "cell_type": "code",
      "source": [
        "re.findall(r\"a.b\",\"acb a#b a@b\")"
      ],
      "metadata": {
        "colab": {
          "base_uri": "https://localhost:8080/"
        },
        "id": "moFL_sPUFrAo",
        "outputId": "92090fd3-7cc2-4bb7-8dca-e766590209de"
      },
      "execution_count": 17,
      "outputs": [
        {
          "output_type": "execute_result",
          "data": {
            "text/plain": [
              "['acb', 'a#b', 'a@b']"
            ]
          },
          "metadata": {},
          "execution_count": 17
        }
      ]
    },
    {
      "cell_type": "code",
      "source": [
        "re.findall(r\".\",\"abc1232@#$#\")"
      ],
      "metadata": {
        "colab": {
          "base_uri": "https://localhost:8080/"
        },
        "id": "G4QjkXiWFq-n",
        "outputId": "2d959a52-bbb5-43c7-a076-e92c1fbab8b7"
      },
      "execution_count": 18,
      "outputs": [
        {
          "output_type": "execute_result",
          "data": {
            "text/plain": [
              "['a', 'b', 'c', '1', '2', '3', '2', '@', '#', '$', '#']"
            ]
          },
          "metadata": {},
          "execution_count": 18
        }
      ]
    },
    {
      "cell_type": "code",
      "source": [
        "re.findall(r\"end$\",\"The end\")"
      ],
      "metadata": {
        "colab": {
          "base_uri": "https://localhost:8080/"
        },
        "id": "RLt0EfEVFqzp",
        "outputId": "32e01263-d9bc-4a37-d31e-34135088ab7a"
      },
      "execution_count": 22,
      "outputs": [
        {
          "output_type": "execute_result",
          "data": {
            "text/plain": [
              "['end']"
            ]
          },
          "metadata": {},
          "execution_count": 22
        }
      ]
    },
    {
      "cell_type": "code",
      "source": [
        "re.findall(\"\\d$\", \"ID 123\")"
      ],
      "metadata": {
        "colab": {
          "base_uri": "https://localhost:8080/"
        },
        "id": "SMMzePj4Fqxz",
        "outputId": "2bcc2466-2fa1-4c72-be98-5b4e8b9341f9"
      },
      "execution_count": 23,
      "outputs": [
        {
          "output_type": "execute_result",
          "data": {
            "text/plain": [
              "['3']"
            ]
          },
          "metadata": {},
          "execution_count": 23
        }
      ]
    },
    {
      "cell_type": "code",
      "source": [
        "re.findall(r\"d*\",\"datadatdatdata\")"
      ],
      "metadata": {
        "colab": {
          "base_uri": "https://localhost:8080/"
        },
        "id": "IqdSwd3nFqvx",
        "outputId": "43f13759-ddda-400e-dbe7-16559ac65c66"
      },
      "execution_count": 24,
      "outputs": [
        {
          "output_type": "execute_result",
          "data": {
            "text/plain": [
              "['d', '', '', '', 'd', '', '', 'd', '', '', 'd', '', '', '', '']"
            ]
          },
          "metadata": {},
          "execution_count": 24
        }
      ]
    },
    {
      "cell_type": "code",
      "source": [
        "re.findall(r\"lo?\",\"look low lion\")"
      ],
      "metadata": {
        "colab": {
          "base_uri": "https://localhost:8080/"
        },
        "id": "tyIPVRTyFqry",
        "outputId": "3ab9790b-24e7-4812-d0db-40cb17b7b557"
      },
      "execution_count": 25,
      "outputs": [
        {
          "output_type": "execute_result",
          "data": {
            "text/plain": [
              "['lo', 'lo', 'l']"
            ]
          },
          "metadata": {},
          "execution_count": 25
        }
      ]
    },
    {
      "cell_type": "code",
      "source": [
        "re.findall(r\"a{2}\",\"a aa aaa \")"
      ],
      "metadata": {
        "colab": {
          "base_uri": "https://localhost:8080/"
        },
        "id": "TCRHuzehFqp8",
        "outputId": "f6abc861-1159-4e19-df6c-40450e464b78"
      },
      "execution_count": 26,
      "outputs": [
        {
          "output_type": "execute_result",
          "data": {
            "text/plain": [
              "['aa', 'aa']"
            ]
          },
          "metadata": {},
          "execution_count": 26
        }
      ]
    },
    {
      "cell_type": "code",
      "source": [
        "re.findall(r\"\\d{3}\",\"123 4567 89 0000\")"
      ],
      "metadata": {
        "colab": {
          "base_uri": "https://localhost:8080/"
        },
        "id": "qjRE17WBFqoA",
        "outputId": "af467419-feca-4058-80b9-06aa04866de1"
      },
      "execution_count": 28,
      "outputs": [
        {
          "output_type": "execute_result",
          "data": {
            "text/plain": [
              "['123', '456', '000']"
            ]
          },
          "metadata": {},
          "execution_count": 28
        }
      ]
    },
    {
      "cell_type": "code",
      "source": [
        "re.findall(r\"cat|dog\", \" I like cat and dog\")"
      ],
      "metadata": {
        "colab": {
          "base_uri": "https://localhost:8080/"
        },
        "id": "3nyS7omXFqly",
        "outputId": "e1f723d6-d2fc-434f-b5e9-6b7a2b8c1029"
      },
      "execution_count": 29,
      "outputs": [
        {
          "output_type": "execute_result",
          "data": {
            "text/plain": [
              "['cat', 'dog']"
            ]
          },
          "metadata": {},
          "execution_count": 29
        }
      ]
    },
    {
      "cell_type": "code",
      "source": [
        "re.findall(r\"apple|mango\", \"mango and applefizz\")"
      ],
      "metadata": {
        "colab": {
          "base_uri": "https://localhost:8080/"
        },
        "id": "LajwY9PIFqju",
        "outputId": "5422de87-aaa9-4a84-e5a7-70c4e946c815"
      },
      "execution_count": 31,
      "outputs": [
        {
          "output_type": "execute_result",
          "data": {
            "text/plain": [
              "['mango', 'apple']"
            ]
          },
          "metadata": {},
          "execution_count": 31
        }
      ]
    },
    {
      "cell_type": "code",
      "source": [
        "re.findall(r\"yes|no\",\"yes  maybe yes and maybe no\")"
      ],
      "metadata": {
        "colab": {
          "base_uri": "https://localhost:8080/"
        },
        "id": "xG3xUXRVFqh2",
        "outputId": "eff68649-ade1-4fee-cd63-40b864398cb4"
      },
      "execution_count": 32,
      "outputs": [
        {
          "output_type": "execute_result",
          "data": {
            "text/plain": [
              "['yes', 'yes', 'no']"
            ]
          },
          "metadata": {},
          "execution_count": 32
        }
      ]
    },
    {
      "cell_type": "code",
      "source": [
        "reviews = [\n",
        "    \"I bought this on 10/07/2025, and it's amazing! 123\",\n",
        "    \"Email me at user123@example.com for more info.\",\n",
        "    \"The phone number is 987-654-3210, call anytime.\",\n",
        "    \"This product is well-made and state-of-the-art!\",\n",
        "    \"Worst. Experience. Ever. 👎 So bad I said bad twice. bad bad.\"\n",
        "]\n"
      ],
      "metadata": {
        "id": "unpvUiisFqfm"
      },
      "execution_count": 33,
      "outputs": []
    },
    {
      "cell_type": "code",
      "source": [
        "[len(i) for i in reviews]"
      ],
      "metadata": {
        "colab": {
          "base_uri": "https://localhost:8080/"
        },
        "id": "layPtGRoPmMN",
        "outputId": "d5a4cda8-db35-4a68-c92c-8aef7950162c"
      },
      "execution_count": 34,
      "outputs": [
        {
          "output_type": "execute_result",
          "data": {
            "text/plain": [
              "[50, 46, 47, 47, 60]"
            ]
          },
          "metadata": {},
          "execution_count": 34
        }
      ]
    },
    {
      "cell_type": "code",
      "source": [
        "[len(i.split()) for i in reviews]"
      ],
      "metadata": {
        "colab": {
          "base_uri": "https://localhost:8080/"
        },
        "id": "3EUbWzcBPmKB",
        "outputId": "f5196828-7752-4331-a35b-842f13945fa2"
      },
      "execution_count": 36,
      "outputs": [
        {
          "output_type": "execute_result",
          "data": {
            "text/plain": [
              "[9, 7, 7, 6, 12]"
            ]
          },
          "metadata": {},
          "execution_count": 36
        }
      ]
    },
    {
      "cell_type": "code",
      "source": [
        "reviews"
      ],
      "metadata": {
        "colab": {
          "base_uri": "https://localhost:8080/"
        },
        "id": "OvJQXpwvPmH5",
        "outputId": "b060f102-61ae-40d8-e578-c77103cb17d4"
      },
      "execution_count": 37,
      "outputs": [
        {
          "output_type": "execute_result",
          "data": {
            "text/plain": [
              "[\"I bought this on 10/07/2025, and it's amazing! 123\",\n",
              " 'Email me at user123@example.com for more info.',\n",
              " 'The phone number is 987-654-3210, call anytime.',\n",
              " 'This product is well-made and state-of-the-art!',\n",
              " 'Worst. Experience. Ever. 👎 So bad I said bad twice. bad bad.']"
            ]
          },
          "metadata": {},
          "execution_count": 37
        }
      ]
    },
    {
      "cell_type": "code",
      "source": [
        "reviews = [\n",
        "    \"I bought this on 10/07/2025, and it's amazing! 123\",\n",
        "    \"Email me at user123@example.com for more info.\",\n",
        "    \"The phone number is 987-654-3210, call anytime.\",\n",
        "    \"This product is well-made and state-of-the-art!\",\n",
        "    \"Worst. Experience. Ever. 👎 So bad I said bad twice. bad bad.\"\n",
        "]\n"
      ],
      "metadata": {
        "id": "QOe1PSWqPmCt"
      },
      "execution_count": 38,
      "outputs": []
    },
    {
      "cell_type": "code",
      "source": [
        "for i  in reviews:\n",
        "   print(re.findall(r\"\\d{2}/\\d{2}/\\d{4}\",i))"
      ],
      "metadata": {
        "colab": {
          "base_uri": "https://localhost:8080/"
        },
        "id": "tWoeo9P_PmAs",
        "outputId": "a7879de1-7888-40d1-9e42-0340215a9577"
      },
      "execution_count": 39,
      "outputs": [
        {
          "output_type": "stream",
          "name": "stdout",
          "text": [
            "['10/07/2025']\n",
            "[]\n",
            "[]\n",
            "[]\n",
            "[]\n"
          ]
        }
      ]
    },
    {
      "cell_type": "code",
      "source": [
        "for i in reviews:\n",
        "  print(re.sub(r\"[^\\w\\s]\",\"\",i))"
      ],
      "metadata": {
        "colab": {
          "base_uri": "https://localhost:8080/"
        },
        "id": "BvmDnw3gPl-k",
        "outputId": "183e943f-770e-4a5a-bbd6-996ca9f488c4"
      },
      "execution_count": 40,
      "outputs": [
        {
          "output_type": "stream",
          "name": "stdout",
          "text": [
            "I bought this on 10072025 and its amazing 123\n",
            "Email me at user123examplecom for more info\n",
            "The phone number is 9876543210 call anytime\n",
            "This product is wellmade and stateoftheart\n",
            "Worst Experience Ever  So bad I said bad twice bad bad\n"
          ]
        }
      ]
    },
    {
      "cell_type": "code",
      "source": [],
      "metadata": {
        "id": "i6ZJ3dDqPl6f"
      },
      "execution_count": null,
      "outputs": []
    },
    {
      "cell_type": "code",
      "source": [],
      "metadata": {
        "id": "7vc0N11ePl4y"
      },
      "execution_count": null,
      "outputs": []
    },
    {
      "cell_type": "code",
      "source": [],
      "metadata": {
        "id": "aJKinzHUPl2x"
      },
      "execution_count": null,
      "outputs": []
    },
    {
      "cell_type": "code",
      "source": [],
      "metadata": {
        "id": "XRmSLXjAPl1C"
      },
      "execution_count": null,
      "outputs": []
    },
    {
      "cell_type": "code",
      "source": [],
      "metadata": {
        "id": "Hg1OkbXGPly-"
      },
      "execution_count": null,
      "outputs": []
    },
    {
      "cell_type": "code",
      "source": [],
      "metadata": {
        "id": "_1J2dcHSPlxH"
      },
      "execution_count": null,
      "outputs": []
    },
    {
      "cell_type": "code",
      "source": [],
      "metadata": {
        "id": "ohNLJkVvPlvC"
      },
      "execution_count": null,
      "outputs": []
    },
    {
      "cell_type": "code",
      "source": [],
      "metadata": {
        "id": "87AIPoVnPltS"
      },
      "execution_count": null,
      "outputs": []
    },
    {
      "cell_type": "code",
      "source": [],
      "metadata": {
        "id": "YjGKxyN3Plrd"
      },
      "execution_count": null,
      "outputs": []
    },
    {
      "cell_type": "code",
      "source": [],
      "metadata": {
        "id": "u-Q6V4RVPln4"
      },
      "execution_count": null,
      "outputs": []
    },
    {
      "cell_type": "code",
      "source": [],
      "metadata": {
        "id": "3L5QAbvkPll6"
      },
      "execution_count": null,
      "outputs": []
    },
    {
      "cell_type": "code",
      "source": [],
      "metadata": {
        "id": "dKySrG-xPli9"
      },
      "execution_count": null,
      "outputs": []
    },
    {
      "cell_type": "code",
      "source": [],
      "metadata": {
        "id": "rRWBL0pmFqdA"
      },
      "execution_count": null,
      "outputs": []
    }
  ]
}